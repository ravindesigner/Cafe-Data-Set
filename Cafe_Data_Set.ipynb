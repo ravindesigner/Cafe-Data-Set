{
  "cells": [
    {
      "cell_type": "markdown",
      "metadata": {
        "id": "view-in-github",
        "colab_type": "text"
      },
      "source": [
        "<a href=\"https://colab.research.google.com/github/ravindesigner/Cafe-Data-Set/blob/main/Cafe_Data_Set.ipynb\" target=\"_parent\"><img src=\"https://colab.research.google.com/assets/colab-badge.svg\" alt=\"Open In Colab\"/></a>"
      ]
    },
    {
      "cell_type": "markdown",
      "id": "281fc9c1",
      "metadata": {
        "id": "281fc9c1"
      },
      "source": [
        "<a href=\"https://github.com/ravindesigner/Cafe-Data-Set\" target=\"_parent\"><img width=\"200px\" src=\"https://i.ibb.co/42rWk0B/github-logo-png-1.png\" alt=\"open in github\" style=\"margin-right: 425px\" border=\"0\"></a>"
      ]
    },
    {
      "cell_type": "markdown",
      "id": "4f79409c",
      "metadata": {
        "id": "4f79409c"
      },
      "source": [
        "<div>\n",
        "    <h1 style=\"color: #31708F; text-align:center; font-size:50px; font-weight: bolder;\">Cafe Data Set</h1><br>\n",
        "</div>"
      ]
    },
    {
      "cell_type": "markdown",
      "id": "6b78fc1d",
      "metadata": {
        "id": "6b78fc1d"
      },
      "source": [
        "<div class=\"alert alert-block alert-info\">\n",
        "    <p style=\"font-size:16px;\">Our project collects key customer details for a <b>Café</b>, such as <b>Customer ID</b>, <b>Age, <b>Gender</b>, <b>Beverage Ordered</b>, <b>Size</b>, <b>Total Amount Spent</b>, <b>Payment Method</b>, <b>Transaction ID</b>, <b>Staff Name</b>, and <b>Staff ID</b>. These insights are crucial for analyzing Coffee Shop operations and customer preferences.\n",
        "</p>\n",
        "</div>"
      ]
    },
    {
      "cell_type": "markdown",
      "id": "f63074b1",
      "metadata": {
        "id": "f63074b1"
      },
      "source": [
        "***"
      ]
    },
    {
      "cell_type": "markdown",
      "id": "5176879f",
      "metadata": {
        "id": "5176879f"
      },
      "source": [
        "<div class=\"alert alert-block alert-info\">\n",
        "        <p style=\"font-size:16px;\">The dataset consists of <b>500 rows</b>, each representing a single transaction in a <b>cafe</b>. The columns in the dataset are:</p>\n",
        "    <ul style=\"font-size:14px;\">\n",
        "        <li><b>Customer ID:</b> A unique identifier for each customer.</li><br>\n",
        "        <li><b>Age:</b> The age of the customer.</li><br>\n",
        "        <li><b>Gender:</b> The gender of the customer (e.g., Male, Female, Other).</li><br>\n",
        "        <li><b>Beverage Ordered:</b> The type of beverage ordered (e.g., Coffee, Tea, Juice).</li><br>\n",
        "        <li><b>Size:</b> The size of the beverage ordered (e.g., Small, Medium, Large).</li><br>\n",
        "        <li><b>Price:</b> The total amount of money spent in the transaction.</li><br>\n",
        "        <li><b>Payment Method:</b> The method of payment used (e.g., Cash, Credit Card, Mobile Payment).</li><br>\n",
        "        <li><b>Transaction ID:</b> A unique identifier for each transaction.</li><br>\n",
        "        <li><b>Staff Name:</b> The name of the staff member who handled the transaction.</li><br>\n",
        "        <li><b>Staff ID:</b> A unique identifier for each staff member.</li>\n",
        "    </ul>\n",
        "</div>"
      ]
    },
    {
      "cell_type": "markdown",
      "id": "c9f7f094",
      "metadata": {
        "id": "c9f7f094"
      },
      "source": [
        "***"
      ]
    },
    {
      "cell_type": "markdown",
      "id": "b6acc427",
      "metadata": {
        "id": "b6acc427"
      },
      "source": [
        "<div class=\"alert alert-block alert-info\">\n",
        "    <p style=\"font-size:16px;\"><b>Start</b></p>\n",
        "</div>"
      ]
    },
    {
      "cell_type": "code",
      "execution_count": null,
      "id": "5f9efba2-9d3a-418f-ae9a-4ccbf48f7dad",
      "metadata": {
        "id": "5f9efba2-9d3a-418f-ae9a-4ccbf48f7dad"
      },
      "outputs": [],
      "source": [
        "#Load necessary packages\n",
        "import pandas as pd\n",
        "import numpy as np\n",
        "import scipy.stats as st\n",
        "import matplotlib.pyplot as plt\n",
        "import seaborn as sns"
      ]
    },
    {
      "cell_type": "code",
      "execution_count": null,
      "id": "b1f5068e-b987-4f71-832e-08d5a40878e5",
      "metadata": {
        "id": "b1f5068e-b987-4f71-832e-08d5a40878e5"
      },
      "outputs": [],
      "source": [
        "mydata = pd.read_csv('Cafe-Data-Set.csv') #to read our data set"
      ]
    },
    {
      "cell_type": "code",
      "execution_count": null,
      "id": "f73590ab",
      "metadata": {
        "scrolled": true,
        "id": "f73590ab"
      },
      "outputs": [],
      "source": [
        "mydata.head(5) #to show head"
      ]
    },
    {
      "cell_type": "code",
      "execution_count": null,
      "id": "95709b35",
      "metadata": {
        "id": "95709b35"
      },
      "outputs": [],
      "source": [
        "mydata.tail(5) #to show tail"
      ]
    },
    {
      "cell_type": "code",
      "execution_count": null,
      "id": "c3a1b0b5",
      "metadata": {
        "id": "c3a1b0b5"
      },
      "outputs": [],
      "source": [
        "mydata.columns #show columns"
      ]
    },
    {
      "cell_type": "code",
      "execution_count": null,
      "id": "d394d782",
      "metadata": {
        "scrolled": true,
        "id": "d394d782"
      },
      "outputs": [],
      "source": [
        "mydata.info() #show info of the data set"
      ]
    },
    {
      "cell_type": "code",
      "execution_count": null,
      "id": "8b14cbcc",
      "metadata": {
        "scrolled": false,
        "id": "8b14cbcc"
      },
      "outputs": [],
      "source": [
        "mydata.describe() #to describe the data set"
      ]
    },
    {
      "cell_type": "markdown",
      "id": "c9fcc29d",
      "metadata": {
        "id": "c9fcc29d"
      },
      "source": [
        "---"
      ]
    },
    {
      "cell_type": "markdown",
      "id": "b47cd95e",
      "metadata": {
        "id": "b47cd95e"
      },
      "source": [
        "<div class=\"alert alert-block alert-info\">\n",
        "    <p style=\"font-size:16px;\"><b>Graph</b></p>\n",
        "</div>"
      ]
    },
    {
      "cell_type": "code",
      "execution_count": null,
      "id": "fbeca305",
      "metadata": {
        "id": "fbeca305"
      },
      "outputs": [],
      "source": [
        "#import matplotlib.pyplot as plt\n",
        "import matplotlib.pyplot as plt\n",
        "%matplotlib inline\n",
        "\n",
        "mydata.hist(figsize=(10,10)) #size of the histogram\n",
        "plt.show() #show histogram"
      ]
    },
    {
      "cell_type": "code",
      "execution_count": null,
      "id": "9a278e72",
      "metadata": {
        "scrolled": false,
        "id": "9a278e72"
      },
      "outputs": [],
      "source": [
        "mydata.hist(['Age'], figsize=(5,5)) #histogram of age\n",
        "plt.show() #show histogram"
      ]
    },
    {
      "cell_type": "code",
      "execution_count": null,
      "id": "23ff9f20",
      "metadata": {
        "scrolled": true,
        "id": "23ff9f20"
      },
      "outputs": [],
      "source": [
        "# Create a contingency table to show the frequency distribution of 'Size' across different 'Gender' categories\n",
        "pd.crosstab(mydata['Gender'], mydata['Size'])"
      ]
    },
    {
      "cell_type": "code",
      "execution_count": null,
      "id": "e0d706e8",
      "metadata": {
        "scrolled": false,
        "id": "e0d706e8"
      },
      "outputs": [],
      "source": [
        "# Creates a cross-tabulation of gender and beverage orders\n",
        "pd.crosstab(mydata['Gender'],mydata['Beverage Ordered'] )"
      ]
    },
    {
      "cell_type": "code",
      "execution_count": null,
      "id": "8ab1cae4",
      "metadata": {
        "scrolled": false,
        "id": "8ab1cae4"
      },
      "outputs": [],
      "source": [
        "plt.figure(figsize=(8, 6)) #size of the graph\n",
        "sns.countplot(x=\"Gender\", hue=\"Size\", data=mydata) # Create the count plot"
      ]
    },
    {
      "cell_type": "code",
      "execution_count": null,
      "id": "80490769",
      "metadata": {
        "scrolled": true,
        "id": "80490769"
      },
      "outputs": [],
      "source": [
        "sns.pairplot(mydata) # Create a pair plot to visualize relationships between all numeric variables in the dataset"
      ]
    },
    {
      "cell_type": "markdown",
      "id": "05da74ef",
      "metadata": {
        "id": "05da74ef"
      },
      "source": [
        "---"
      ]
    },
    {
      "cell_type": "markdown",
      "id": "9c4c082d",
      "metadata": {
        "id": "9c4c082d"
      },
      "source": [
        "<div class=\"alert alert-block alert-info\">\n",
        "    <p style=\"font-size:16px;\"><b>Stander Deviation</b></p>\n",
        "</div>"
      ]
    },
    {
      "cell_type": "code",
      "execution_count": null,
      "id": "99b6724d",
      "metadata": {
        "scrolled": true,
        "id": "99b6724d"
      },
      "outputs": [],
      "source": [
        "mydata['Age'].std() #stander deviation"
      ]
    },
    {
      "cell_type": "markdown",
      "id": "1a997fad",
      "metadata": {
        "id": "1a997fad"
      },
      "source": [
        "---"
      ]
    },
    {
      "cell_type": "markdown",
      "id": "91d9439b",
      "metadata": {
        "id": "91d9439b"
      },
      "source": [
        "<div class=\"alert alert-block alert-info\">\n",
        "    <p style=\"font-size:16px;\"><b>Mean</b></p>\n",
        "</div>"
      ]
    },
    {
      "cell_type": "code",
      "execution_count": null,
      "id": "698cc9c0",
      "metadata": {
        "id": "698cc9c0"
      },
      "outputs": [],
      "source": [
        "mydata['Age'].mean() #mean"
      ]
    },
    {
      "cell_type": "code",
      "execution_count": null,
      "id": "d9770a10",
      "metadata": {
        "id": "d9770a10"
      },
      "outputs": [],
      "source": [
        "# Create a histogram using histplot\n",
        "sns.distplot(mydata['Age'])"
      ]
    },
    {
      "cell_type": "code",
      "execution_count": null,
      "id": "de25afbb",
      "metadata": {
        "scrolled": true,
        "id": "de25afbb"
      },
      "outputs": [],
      "source": [
        "# Create a histogram of 'Gender' grouped by 'Age' with a specified figure size\n",
        "mydata.hist(by='Gender', column='Age', figsize=(5, 5))"
      ]
    },
    {
      "cell_type": "code",
      "execution_count": null,
      "id": "c0df8d5e",
      "metadata": {
        "scrolled": false,
        "id": "c0df8d5e"
      },
      "outputs": [],
      "source": [
        "# Create separate histograms of 'Age' for each 'Gender' group\n",
        "mydata.hist(by='Gender', column='Age')"
      ]
    },
    {
      "cell_type": "code",
      "execution_count": null,
      "id": "45d4163c",
      "metadata": {
        "id": "45d4163c"
      },
      "outputs": [],
      "source": [
        "# Create a histogram of 'Gender' grouped by 'Size' with a specified figure size\n",
        "mydata.hist(by='Gender', column='Size', figsize=(10, 5))"
      ]
    },
    {
      "cell_type": "code",
      "execution_count": null,
      "id": "d6237ede",
      "metadata": {
        "id": "d6237ede"
      },
      "outputs": [],
      "source": [
        "plt.figure(figsize=(15, 5))  # Adjust the width and height as needed\n",
        "\n",
        "# Visualize the distribution of 'Age' across 'Beverage Ordered' categories using a box plot with adjusted width\n",
        "sns.boxplot(x=\"Beverage Ordered\", y=\"Age\", data=mydata, width=0.5)"
      ]
    },
    {
      "cell_type": "markdown",
      "id": "d91e86d9",
      "metadata": {
        "id": "d91e86d9"
      },
      "source": [
        "---"
      ]
    },
    {
      "cell_type": "code",
      "execution_count": null,
      "id": "73c84ab1",
      "metadata": {
        "id": "73c84ab1"
      },
      "outputs": [],
      "source": [
        "#Load necessary packages\n",
        "import numpy as np\n",
        "import scipy.stats as st\n",
        "import matplotlib.pyplot as plt\n",
        "import seaborn as sns"
      ]
    },
    {
      "cell_type": "code",
      "execution_count": null,
      "id": "6e9d1f6b",
      "metadata": {
        "id": "6e9d1f6b"
      },
      "outputs": [],
      "source": [
        "x = mydata.Age #to read age in our data set"
      ]
    },
    {
      "cell_type": "code",
      "execution_count": null,
      "id": "89262998",
      "metadata": {
        "scrolled": true,
        "id": "89262998"
      },
      "outputs": [],
      "source": [
        "#Print the values from 1 to 15 to check\n",
        "x[1:15]"
      ]
    },
    {
      "cell_type": "code",
      "execution_count": null,
      "id": "7ade7a89",
      "metadata": {
        "scrolled": false,
        "id": "7ade7a89"
      },
      "outputs": [],
      "source": [
        "fig, ax = plt.subplots()\n",
        "_ = plt.hist(x, color = '#31708F') #create histogram for variable x in green color"
      ]
    },
    {
      "cell_type": "markdown",
      "id": "9ab68377",
      "metadata": {
        "id": "9ab68377"
      },
      "source": [
        "---"
      ]
    },
    {
      "cell_type": "markdown",
      "id": "97667bc2",
      "metadata": {
        "id": "97667bc2"
      },
      "source": [
        "<div class=\"alert alert-block alert-info\">\n",
        "    <p style=\"font-size:16px;\"><b>Mean</b></p>\n",
        "</div>"
      ]
    },
    {
      "cell_type": "code",
      "execution_count": null,
      "id": "fe2e81d1",
      "metadata": {
        "scrolled": true,
        "id": "fe2e81d1"
      },
      "outputs": [],
      "source": [
        "xbar = x.mean() #find mean\n",
        "xbar"
      ]
    },
    {
      "cell_type": "markdown",
      "id": "86f939e7",
      "metadata": {
        "id": "86f939e7"
      },
      "source": [
        "---"
      ]
    },
    {
      "cell_type": "markdown",
      "id": "df87373f",
      "metadata": {
        "id": "df87373f"
      },
      "source": [
        "<div class=\"alert alert-block alert-info\">\n",
        "    <p style=\"font-size:16px;\"><b>Figures</b></p>\n",
        "</div>"
      ]
    },
    {
      "cell_type": "code",
      "execution_count": null,
      "id": "ec885d11",
      "metadata": {
        "scrolled": true,
        "id": "ec885d11"
      },
      "outputs": [],
      "source": [
        "fig, ax = plt.subplots()\n",
        "plt.axvline(x = x.mean(), color='orange') #show mean\n",
        "_ = plt.hist(x, color = '#31708F')"
      ]
    },
    {
      "cell_type": "markdown",
      "id": "91912d6e",
      "metadata": {
        "id": "91912d6e"
      },
      "source": [
        "---"
      ]
    },
    {
      "cell_type": "markdown",
      "id": "18e91e74",
      "metadata": {
        "id": "18e91e74"
      },
      "source": [
        "<div class=\"alert alert-block alert-info\">\n",
        "    <p style=\"font-size:16px;\"><b>Median</b></p>\n",
        "</div>"
      ]
    },
    {
      "cell_type": "code",
      "execution_count": null,
      "id": "d7d75d6f",
      "metadata": {
        "id": "d7d75d6f"
      },
      "outputs": [],
      "source": [
        "np.median(x) #find median"
      ]
    },
    {
      "cell_type": "code",
      "execution_count": null,
      "id": "47e3bf28",
      "metadata": {
        "id": "47e3bf28"
      },
      "outputs": [],
      "source": [
        "fig, ax = plt.subplots()\n",
        "plt.axvline(x = np.mean(x), color='orange') #show mean\n",
        "plt.axvline(x = np.median(x), color='red') #show median\n",
        "_ = plt.hist(x, color = '#31708F')"
      ]
    },
    {
      "cell_type": "markdown",
      "id": "ec61df94",
      "metadata": {
        "id": "ec61df94"
      },
      "source": [
        "***"
      ]
    },
    {
      "cell_type": "markdown",
      "id": "5ecaa878",
      "metadata": {
        "id": "5ecaa878"
      },
      "source": [
        "<div class=\"alert alert-block alert-info\">\n",
        "    <p style=\"font-size:16px;\"><b>Variance</b></p>\n",
        "</div>"
      ]
    },
    {
      "cell_type": "code",
      "execution_count": null,
      "id": "90cb5a63",
      "metadata": {
        "id": "90cb5a63"
      },
      "outputs": [],
      "source": [
        "x.var() # Calculate the variance of the variable x"
      ]
    },
    {
      "cell_type": "code",
      "execution_count": null,
      "id": "a34c8e90",
      "metadata": {
        "scrolled": true,
        "id": "a34c8e90"
      },
      "outputs": [],
      "source": [
        "x.var()**(1/2) # Calculate the standard deviation of the variable x"
      ]
    },
    {
      "cell_type": "markdown",
      "id": "93b56b7e",
      "metadata": {
        "id": "93b56b7e"
      },
      "source": [
        "---"
      ]
    },
    {
      "cell_type": "markdown",
      "id": "b35a8c09",
      "metadata": {
        "id": "b35a8c09"
      },
      "source": [
        "<div class=\"alert alert-block alert-info\">\n",
        "    <p style=\"font-size:16px;\"><b>Stander Deviation</b></p>\n",
        "</div>"
      ]
    },
    {
      "cell_type": "code",
      "execution_count": null,
      "id": "a224ba09",
      "metadata": {
        "id": "a224ba09"
      },
      "outputs": [],
      "source": [
        "sigma = x.std() #find stander deviation\n",
        "sigma"
      ]
    },
    {
      "cell_type": "code",
      "execution_count": null,
      "id": "ff584b08",
      "metadata": {
        "id": "ff584b08"
      },
      "outputs": [],
      "source": [
        "fig, ax = plt.subplots()\n",
        "plt.axvline(x = xbar, color='orange') #mean\n",
        "plt.axvline(x = xbar+(1.5*sigma), color='#31708F') #xbar+(1.5*sigma)\n",
        "plt.axvline(x = xbar+sigma, color='olivedrab') #sigma\n",
        "plt.axvline(x = xbar-sigma, color='olivedrab') #sigma\n",
        "plt.axvline(x = xbar-(1.5*sigma), color='#31708F') #xbar-(1.5*sigma)\n",
        "_ = plt.hist(x, color = 'lightgray') #x color"
      ]
    },
    {
      "cell_type": "markdown",
      "id": "1c9ad7c3",
      "metadata": {
        "id": "1c9ad7c3"
      },
      "source": [
        "***"
      ]
    },
    {
      "cell_type": "markdown",
      "id": "1dd97bf9",
      "metadata": {
        "id": "1dd97bf9"
      },
      "source": [
        "<div class=\"alert alert-block alert-info\">\n",
        "    <p style=\"font-size:16px;\"><b>Gaussian Distribution</b></p>\n",
        "    <p style=\"font-size:14px;\">After Carl Friedrich Gauss. Also known as <b>normal distribution:</b></p>\n",
        "</div>"
      ]
    },
    {
      "cell_type": "code",
      "execution_count": null,
      "id": "9c2500c5",
      "metadata": {
        "id": "9c2500c5"
      },
      "outputs": [],
      "source": [
        "x = mydata.Age #to read age in our data set"
      ]
    },
    {
      "cell_type": "code",
      "execution_count": null,
      "id": "553072aa",
      "metadata": {
        "id": "553072aa"
      },
      "outputs": [],
      "source": [
        "sns.set_style('ticks') #Set seaborn style to 'ticks'"
      ]
    },
    {
      "cell_type": "code",
      "execution_count": null,
      "id": "7a85a07d",
      "metadata": {
        "id": "7a85a07d"
      },
      "outputs": [],
      "source": [
        "_ = sns.displot(x, kde=True)"
      ]
    },
    {
      "cell_type": "code",
      "execution_count": null,
      "id": "eb41cbc7",
      "metadata": {
        "id": "eb41cbc7"
      },
      "outputs": [],
      "source": [
        "x.mean() #find mean"
      ]
    },
    {
      "cell_type": "code",
      "execution_count": null,
      "id": "3a7d361d",
      "metadata": {
        "id": "3a7d361d"
      },
      "outputs": [],
      "source": [
        "x.std() #find stander deviation"
      ]
    },
    {
      "cell_type": "markdown",
      "id": "7fc0a91f",
      "metadata": {
        "id": "7fc0a91f"
      },
      "source": [
        "<div class=\"alert alert-block alert-info\">\n",
        "    <p style=\"font-size:16px;\"><b>The Central Limit Theorem</b></p>\n",
        "</div>"
      ]
    },
    {
      "cell_type": "code",
      "execution_count": null,
      "id": "f38e3ecc",
      "metadata": {
        "id": "f38e3ecc"
      },
      "outputs": [],
      "source": [
        "# Generate a random sample of 20 elements from array x with replacement\n",
        "x_sample = np.random.choice(x, size=15, replace=True)\n",
        "x_sample"
      ]
    },
    {
      "cell_type": "code",
      "execution_count": null,
      "id": "bda244d2",
      "metadata": {
        "id": "bda244d2"
      },
      "outputs": [],
      "source": [
        "# Calculate the mean of the sample 'x_sample'\n",
        "x_sample.mean()"
      ]
    },
    {
      "cell_type": "markdown",
      "id": "7ff2fdcc",
      "metadata": {
        "id": "7ff2fdcc"
      },
      "source": [
        "---"
      ]
    },
    {
      "cell_type": "markdown",
      "id": "defcfb08",
      "metadata": {
        "id": "defcfb08"
      },
      "source": [
        "<div class=\"alert alert-block alert-info\">\n",
        "    <p style=\"font-size:16px;\"><b>Sampling Distributions</b></p>\n",
        "</div>"
      ]
    },
    {
      "cell_type": "code",
      "execution_count": null,
      "id": "ada2e9c4",
      "metadata": {
        "id": "ada2e9c4"
      },
      "outputs": [],
      "source": [
        "def sample_mean_calculator(input_dist, sample_size, n_samples):\n",
        "    sample_means = []\n",
        "    for i in range(n_samples):\n",
        "        sample = np.random.choice(input_dist, size=sample_size, replace=True)\n",
        "        sample_means.append(sample.mean())\n",
        "    return sample_means"
      ]
    },
    {
      "cell_type": "code",
      "execution_count": null,
      "id": "739fd6de",
      "metadata": {
        "id": "739fd6de"
      },
      "outputs": [],
      "source": [
        "sample_means = sample_mean_calculator(x, 10, 1000)  # Calculate sample means\n",
        "sns.displot(data=sample_means, color='green', kde=True)  # Plot the distribution\n",
        "_ = plt.xlim(21, 48)  # Set the x-axis limits"
      ]
    },
    {
      "cell_type": "code",
      "execution_count": null,
      "id": "fb0bfc98",
      "metadata": {
        "id": "fb0bfc98"
      },
      "outputs": [],
      "source": [
        "sns.displot(sample_mean_calculator(x, 10, 100), color='green', kde=True)\n",
        "_ = plt.xlim(0, 50)  # Set the x-axis limits"
      ]
    },
    {
      "cell_type": "code",
      "execution_count": null,
      "id": "2895d1db",
      "metadata": {
        "id": "2895d1db"
      },
      "outputs": [],
      "source": [
        "sns.displot(sample_mean_calculator(x, 100, 1000), color='green', kde=True)\n",
        "_ = plt.xlim(0, 50)  # Set the x-axis limits"
      ]
    },
    {
      "cell_type": "markdown",
      "id": "2007b837",
      "metadata": {
        "id": "2007b837"
      },
      "source": [
        "---"
      ]
    },
    {
      "cell_type": "markdown",
      "id": "151002e6",
      "metadata": {
        "id": "151002e6"
      },
      "source": [
        "<div class=\"alert alert-block alert-info\">\n",
        "    <p style=\"font-size:16px;\"><b>Sampling from a skewed distribution</b></p>\n",
        "</div>"
      ]
    },
    {
      "cell_type": "code",
      "execution_count": null,
      "id": "229457a9",
      "metadata": {
        "id": "229457a9"
      },
      "outputs": [],
      "source": [
        "s = st.skewnorm.rvs(10, size=10000)"
      ]
    },
    {
      "cell_type": "code",
      "execution_count": null,
      "id": "b7f421db",
      "metadata": {
        "id": "b7f421db",
        "scrolled": true
      },
      "outputs": [],
      "source": [
        "_ = sns.displot(s, kde=True)"
      ]
    },
    {
      "cell_type": "code",
      "execution_count": null,
      "id": "43f0aa59",
      "metadata": {
        "id": "43f0aa59"
      },
      "outputs": [],
      "source": [
        "_ = sns.displot(sample_mean_calculator(s, 10, 1000), color='green', kde=True)"
      ]
    },
    {
      "cell_type": "code",
      "execution_count": null,
      "id": "178020ee",
      "metadata": {
        "scrolled": true,
        "id": "178020ee"
      },
      "outputs": [],
      "source": [
        "sns.displot(sample_mean_calculator(x, 20, 500), color='red', kde=True)  # Create a distribution plot of sample means using seaborn, with a red color and KDE overlay\n",
        "_ = plt.xlim(20, 45)  # Set the x-axis limits of the plot from 20 to 50"
      ]
    },
    {
      "cell_type": "markdown",
      "id": "b951f2aa",
      "metadata": {
        "id": "b951f2aa"
      },
      "source": [
        "---"
      ]
    },
    {
      "cell_type": "markdown",
      "id": "5f67c1e1",
      "metadata": {
        "id": "5f67c1e1"
      },
      "source": [
        "<div class=\"alert alert-block alert-info\">\n",
        "    <p style=\"font-size:16px;\"><b>Sampling from a multimodal distribution</b></p>\n",
        "</div>"
      ]
    },
    {
      "cell_type": "code",
      "execution_count": null,
      "id": "74b02a84",
      "metadata": {
        "id": "74b02a84"
      },
      "outputs": [],
      "source": [
        "# Generate random samples from a skewed normal distribution\n",
        "s = st.skewnorm.rvs(10, size=10000)\n",
        "\n",
        "# Create a distribution plot with KDE using seaborn\n",
        "_ = sns.displot(s, kde=True)"
      ]
    },
    {
      "cell_type": "code",
      "execution_count": null,
      "id": "c07a057b",
      "metadata": {
        "id": "c07a057b"
      },
      "outputs": [],
      "source": [
        "# Concatenate two normal distributions and plot their distribution with KDE using seaborn\n",
        "m = np.concatenate((np.random.normal(size=5000), np.random.normal(loc=4.0, size=1000)))\n",
        "_ = sns.displot(m, kde=True)"
      ]
    },
    {
      "cell_type": "code",
      "execution_count": null,
      "id": "30f6eac4",
      "metadata": {
        "id": "30f6eac4"
      },
      "outputs": [],
      "source": [
        "# Concatenate three normal distributions and plot their distribution with KDE using seaborn\n",
        "m = np.concatenate((np.random.normal(size=5000), np.random.normal(loc=4.0, size=2000), np.random.normal(loc=8.0, size=1000)))\n",
        "_ = sns.displot(m, kde=True)"
      ]
    },
    {
      "cell_type": "code",
      "execution_count": null,
      "id": "3edce41c",
      "metadata": {
        "scrolled": true,
        "id": "3edce41c"
      },
      "outputs": [],
      "source": [
        "_ = sns.displot(sample_mean_calculator(m, 1000, 1000), color='#31708F', kde=True)"
      ]
    },
    {
      "cell_type": "markdown",
      "id": "828528b6",
      "metadata": {
        "id": "828528b6"
      },
      "source": [
        "---"
      ]
    },
    {
      "cell_type": "markdown",
      "id": "52ae8319",
      "metadata": {
        "id": "52ae8319"
      },
      "source": [
        "<div class=\"alert alert-block alert-info\">\n",
        "    <p style=\"font-size:16px;\"><b>Sampling from Uniform</b></p>\n",
        "</div>"
      ]
    },
    {
      "cell_type": "code",
      "execution_count": null,
      "id": "0a78626e",
      "metadata": {
        "id": "0a78626e"
      },
      "outputs": [],
      "source": [
        "# Assign the 'Age' column of the DataFrame 'mydata' to variable 'u'\n",
        "u = mydata.Age"
      ]
    },
    {
      "cell_type": "code",
      "execution_count": null,
      "id": "60c09eb4",
      "metadata": {
        "id": "60c09eb4"
      },
      "outputs": [],
      "source": [
        "# Plot the distribution of 'u' using seaborn\n",
        "_ = sns.displot(u)"
      ]
    },
    {
      "cell_type": "code",
      "execution_count": null,
      "id": "9299478b",
      "metadata": {
        "id": "9299478b"
      },
      "outputs": [],
      "source": [
        "# Plot the distribution of sample means from 'u' using seaborn with KDE in green\n",
        "_ = sns.displot(sample_mean_calculator(u, 100, 1000), color='#31708F', kde=True)"
      ]
    },
    {
      "cell_type": "markdown",
      "id": "c0a23caf",
      "metadata": {
        "id": "c0a23caf"
      },
      "source": [
        "***"
      ]
    },
    {
      "cell_type": "markdown",
      "id": "fee347b0",
      "metadata": {
        "id": "fee347b0"
      },
      "source": [
        "<div class=\"alert alert-block alert-info\">\n",
        "    <p style=\"font-size:16px;\"><b>Z-Scores</b></p>\n",
        "</div>"
      ]
    },
    {
      "cell_type": "code",
      "execution_count": null,
      "id": "0d49a4b3",
      "metadata": {
        "scrolled": true,
        "id": "0d49a4b3"
      },
      "outputs": [],
      "source": [
        "# Assign the 'Age' column of the DataFrame 'mydata' to variable 'x'\n",
        "x = mydata.Age"
      ]
    },
    {
      "cell_type": "code",
      "execution_count": null,
      "id": "d3d7c6ee",
      "metadata": {
        "id": "d3d7c6ee"
      },
      "outputs": [],
      "source": [
        "# Assign values to variables: x_i = 20, mu = 33.5, sigma = 5\n",
        "x_i = 42\n",
        "mu = x.mean()\n",
        "sigma = x.std()"
      ]
    },
    {
      "cell_type": "code",
      "execution_count": null,
      "id": "4aca0869",
      "metadata": {
        "id": "4aca0869"
      },
      "outputs": [],
      "source": [
        "sns.displot(x, color='gray') # Plot a distribution plot of the variable x in gray color\n",
        "ax.set_xlim(0, 100) # Set the x-axis limit of the plot\n",
        "plt.axvline(mu, color='orange') # Add a vertical line at the mean (mu) in orange color\n",
        "# Add vertical lines at mu ± 1, and 2 standard deviations (sigma) in olivedrab color\n",
        "for v in [-2, -1, 1, 2]:\n",
        "    plt.axvline(mu + v * sigma, color='olivedrab')\n",
        "_ = plt.axvline(x_i, color='#31708F') # Add a vertical line at x_i (a specific value) in color '#31708F'"
      ]
    },
    {
      "cell_type": "markdown",
      "id": "b69bbf3b",
      "metadata": {
        "id": "b69bbf3b"
      },
      "source": [
        "***"
      ]
    },
    {
      "cell_type": "code",
      "execution_count": null,
      "id": "226eb0ce",
      "metadata": {
        "id": "226eb0ce"
      },
      "outputs": [],
      "source": [
        "# Calculate the z-score using the formula: z = (x_i - mu) / sigma\n",
        "z = (x_i - mu) / sigma\n",
        "z"
      ]
    },
    {
      "cell_type": "code",
      "execution_count": null,
      "id": "607ac6c0",
      "metadata": {
        "id": "607ac6c0"
      },
      "outputs": [],
      "source": [
        "# Calculate the z-score using the formula: z = (x_i - mean(x)) / std(x)\n",
        "z = (x_i - np.mean(x)) / np.std(x)\n",
        "z"
      ]
    },
    {
      "cell_type": "code",
      "execution_count": null,
      "id": "20232c89",
      "metadata": {
        "id": "20232c89"
      },
      "outputs": [],
      "source": [
        "# Count the number of elements in array 'x' that are greater than the threshold x_i\n",
        "count = len(np.where(x > x_i)[0])"
      ]
    },
    {
      "cell_type": "code",
      "execution_count": null,
      "id": "e0edc230",
      "metadata": {
        "id": "e0edc230"
      },
      "outputs": [],
      "source": [
        "# Calculate the percentage using the formula: percentage = (count_greater_than_xi * 100) / total elements in x\n",
        "(count * 100) / len(x)"
      ]
    },
    {
      "cell_type": "code",
      "execution_count": null,
      "id": "09942c20",
      "metadata": {
        "id": "09942c20"
      },
      "outputs": [],
      "source": [
        "# Calculate the 99th percentile of array 'x'\n",
        "np.percentile(x, 99)"
      ]
    },
    {
      "cell_type": "code",
      "execution_count": null,
      "id": "bc980723",
      "metadata": {
        "id": "bc980723"
      },
      "outputs": [],
      "source": [
        "# Assign values to variables: mu = 90, sigma = 2\n",
        "mu = 90\n",
        "sigma = 2"
      ]
    },
    {
      "cell_type": "code",
      "execution_count": null,
      "id": "0b42e5b4",
      "metadata": {
        "id": "0b42e5b4"
      },
      "outputs": [],
      "source": [
        "# Generate 10,000 random samples from a normal distribution with mean 'mu' and standard deviation 'sigma'\n",
        "y = np.random.normal(mu, sigma, 100)"
      ]
    },
    {
      "cell_type": "code",
      "execution_count": null,
      "id": "7b5dd46a",
      "metadata": {
        "id": "7b5dd46a"
      },
      "outputs": [],
      "source": [
        "sns.displot(y, color='gray')  # Plot a distribution plot of the variable y in gray color\n",
        "plt.axvline(mu, color='orange')  # Add a vertical line at the mean (mu) in orange color\n",
        "for v in [-2, -1, 1, 2]: # Add vertical lines at mu ± 1 and 2 standard deviations (sigma) in olivedrab color\n",
        "    plt.axvline(mu + v * sigma, color='olivedrab')\n",
        "_ = plt.axvline(mu, color='#31708F')  # Add a vertical line at mu (a specific value) in purple color"
      ]
    },
    {
      "cell_type": "markdown",
      "id": "226125bd",
      "metadata": {
        "id": "226125bd"
      },
      "source": [
        "***"
      ]
    },
    {
      "cell_type": "markdown",
      "id": "9b154039",
      "metadata": {
        "id": "9b154039"
      },
      "source": [
        "<div class=\"alert alert-block alert-info\">\n",
        "    <p style=\"font-size:16px;\"><b>P-Values</b></p>\n",
        "</div>"
      ]
    },
    {
      "cell_type": "code",
      "execution_count": null,
      "id": "e4dfd065",
      "metadata": {
        "id": "e4dfd065"
      },
      "outputs": [],
      "source": [
        "# Calculate the cumulative probability of a standard normal distribution being below -2.5 standard deviations\n",
        "p_below = st.norm.cdf(-1.5)\n",
        "p_below"
      ]
    },
    {
      "cell_type": "code",
      "execution_count": null,
      "id": "34429701",
      "metadata": {
        "id": "34429701"
      },
      "outputs": [],
      "source": [
        "# Convert the cumulative probability to a count equivalent to 10,000 samples\n",
        "p_below * 500"
      ]
    },
    {
      "cell_type": "code",
      "execution_count": null,
      "id": "9394aab1",
      "metadata": {
        "id": "9394aab1"
      },
      "outputs": [],
      "source": [
        "# Plot the distribution of 'y' using seaborn with gray color\n",
        "sns.displot(y, color='gray')\n",
        "\n",
        "# Add a vertical line at the value mu - 2.5 * sigma with red color using matplotlib\n",
        "_ = plt.axvline(mu - 1.5 * sigma, color='#31708F')"
      ]
    },
    {
      "cell_type": "code",
      "execution_count": null,
      "id": "ddfbe2b7",
      "metadata": {
        "id": "ddfbe2b7"
      },
      "outputs": [],
      "source": [
        "# Calculate the cumulative probability of a standard normal distribution being below 2.5 standard deviations\n",
        "st.norm.cdf(1.5)"
      ]
    },
    {
      "cell_type": "code",
      "execution_count": null,
      "id": "39ec8fe0",
      "metadata": {
        "id": "39ec8fe0"
      },
      "outputs": [],
      "source": [
        "# Calculate the cumulative probability of a standard normal distribution being above 2.5 standard deviations\n",
        "p_above = 1 - st.norm.cdf(1.5)\n",
        "p_above"
      ]
    },
    {
      "cell_type": "code",
      "execution_count": null,
      "id": "a8ae84ff",
      "metadata": {
        "id": "a8ae84ff"
      },
      "outputs": [],
      "source": [
        "# Convert the cumulative probability to a count equivalent to 10,000 samples\n",
        "p_above * 500"
      ]
    },
    {
      "cell_type": "code",
      "execution_count": null,
      "id": "ed69936c",
      "metadata": {
        "id": "ed69936c"
      },
      "outputs": [],
      "source": [
        "# Plot the distribution of 'y' using seaborn with gray color\n",
        "sns.displot(y, color='gray')\n",
        "\n",
        "# Add a vertical line at the value mu + 2.5 * sigma with blue color using matplotlib\n",
        "_ = plt.axvline(mu + 1.5 * sigma, color='#31708F')"
      ]
    },
    {
      "cell_type": "code",
      "execution_count": null,
      "id": "3a30a72f",
      "metadata": {
        "id": "3a30a72f"
      },
      "outputs": [],
      "source": [
        "# Calculate the cumulative probability of a standard normal distribution being outside of 2.5 standard deviations\n",
        "p_outside = p_below + p_above\n",
        "p_outside"
      ]
    },
    {
      "cell_type": "code",
      "execution_count": null,
      "id": "a28a5460",
      "metadata": {
        "id": "a28a5460"
      },
      "outputs": [],
      "source": [
        "# Convert the cumulative probability to a count equivalent to 10,000 samples\n",
        "p_outside * 500"
      ]
    },
    {
      "cell_type": "code",
      "execution_count": null,
      "id": "a5c0f333",
      "metadata": {
        "id": "a5c0f333"
      },
      "outputs": [],
      "source": [
        "# Plot the distribution of 'y' using seaborn with gray color\n",
        "sns.displot(y, color='gray')\n",
        "\n",
        "# Add vertical lines at mu + 2.5 * sigma and mu - 2.5 * sigma with blue color using matplotlib\n",
        "plt.axvline(mu + 1.5 * sigma, color='#31708F')\n",
        "_ = plt.axvline(mu - 1.5 * sigma, color='#31708F')"
      ]
    },
    {
      "cell_type": "code",
      "execution_count": null,
      "id": "ae56d344",
      "metadata": {
        "id": "ae56d344"
      },
      "outputs": [],
      "source": [
        "# Calculate the z-score corresponding to the 2.5th percentile of a standard normal distribution\n",
        "st.norm.ppf(.025)\n",
        "\n",
        "# Calculate the z-score corresponding to the 97.5th percentile of a standard normal distribution\n",
        "st.norm.ppf(.975)"
      ]
    },
    {
      "cell_type": "code",
      "execution_count": null,
      "id": "5c8bd7e0",
      "metadata": {
        "id": "5c8bd7e0"
      },
      "outputs": [],
      "source": [
        "# Plot the distribution of 'y' using seaborn with gray color\n",
        "sns.displot(y, color='gray')\n",
        "\n",
        "# Add vertical lines at mu + 1.96 * sigma and mu - 1.96 * sigma with dark red color using matplotlib\n",
        "plt.axvline(mu + 1.5 * sigma, color='#31708F')\n",
        "_ = plt.axvline(mu - 1.5 * sigma, color='darkred')"
      ]
    },
    {
      "cell_type": "code",
      "execution_count": null,
      "id": "7360af9e",
      "metadata": {
        "id": "7360af9e"
      },
      "outputs": [],
      "source": [
        "# Calculate the z-score corresponding to the 0.8th percentile of a standard normal distribution\n",
        "st.norm.ppf(.008)\n",
        "\n",
        "# Calculate the z-score corresponding to the 99.2th percentile of a standard normal distribution\n",
        "st.norm.ppf(.992)"
      ]
    },
    {
      "cell_type": "code",
      "execution_count": null,
      "id": "5abc8a2f",
      "metadata": {
        "id": "5abc8a2f"
      },
      "outputs": [],
      "source": [
        "# Plot the distribution of 'y' using seaborn with gray color\n",
        "sns.displot(y, color='gray')\n",
        "\n",
        "# Add vertical lines at mu + 1.96 * sigma and mu - 1.96 * sigma with green color using matplotlib\n",
        "plt.axvline(mu + 1.96 * sigma, color='green')\n",
        "plt.axvline(mu - 1.96 * sigma, color='green')\n",
        "\n",
        "# Add vertical lines at mu + 2.56 * sigma and mu - 2.56 * sigma with red color using matplotlib\n",
        "plt.axvline(mu + 2.56 * sigma, color='#31708F')\n",
        "_ = plt.axvline(mu - 2.56 * sigma, color='#31708F')"
      ]
    },
    {
      "cell_type": "markdown",
      "id": "d721cda0",
      "metadata": {
        "id": "d721cda0"
      },
      "source": [
        "---"
      ]
    },
    {
      "cell_type": "markdown",
      "id": "3a2edfac",
      "metadata": {
        "id": "3a2edfac"
      },
      "source": [
        "<div class=\"alert alert-block alert-info\">\n",
        "    <p style=\"font-size:16px;\"><b>Penguins</b></p>\n",
        "</div>"
      ]
    },
    {
      "cell_type": "code",
      "execution_count": null,
      "id": "daa97d8f",
      "metadata": {
        "id": "daa97d8f"
      },
      "outputs": [],
      "source": [
        "penguins = sns.load_dataset('penguins').dropna() # some rows are missing data"
      ]
    },
    {
      "cell_type": "code",
      "execution_count": null,
      "id": "7505639b",
      "metadata": {
        "id": "7505639b"
      },
      "outputs": [],
      "source": [
        "penguins"
      ]
    },
    {
      "cell_type": "code",
      "execution_count": null,
      "id": "11d34d2e",
      "metadata": {
        "id": "11d34d2e"
      },
      "outputs": [],
      "source": [
        "# Get unique species and their counts from the penguins dataset\n",
        "np.unique(penguins.species, return_counts=True)"
      ]
    },
    {
      "cell_type": "code",
      "execution_count": null,
      "id": "c220403f",
      "metadata": {
        "id": "c220403f"
      },
      "outputs": [],
      "source": [
        "Chinstrap = penguins[penguins.species == 'Chinstrap']"
      ]
    },
    {
      "cell_type": "code",
      "execution_count": null,
      "id": "df25197e",
      "metadata": {
        "id": "df25197e"
      },
      "outputs": [],
      "source": [
        "Chinstrap"
      ]
    },
    {
      "cell_type": "code",
      "execution_count": null,
      "id": "f42d7197",
      "metadata": {
        "id": "f42d7197"
      },
      "outputs": [],
      "source": [
        "np.unique(Chinstrap.island, return_counts=True)"
      ]
    },
    {
      "cell_type": "code",
      "execution_count": null,
      "id": "97e38efe",
      "metadata": {
        "id": "97e38efe"
      },
      "outputs": [],
      "source": [
        "np.unique(Chinstrap.sex, return_counts=True)"
      ]
    },
    {
      "cell_type": "code",
      "execution_count": null,
      "id": "6cca5f78",
      "metadata": {
        "id": "6cca5f78"
      },
      "outputs": [],
      "source": [
        "_ = sns.boxplot(x='island', y='body_mass_g', hue='sex', data=Chinstrap)"
      ]
    },
    {
      "cell_type": "code",
      "execution_count": null,
      "id": "c32d322c",
      "metadata": {
        "id": "c32d322c"
      },
      "outputs": [],
      "source": [
        "fem = Chinstrap[Chinstrap.sex == 'Female']['body_mass_g'].to_numpy()/1000\n",
        "fem"
      ]
    },
    {
      "cell_type": "code",
      "execution_count": null,
      "id": "99057117",
      "metadata": {
        "id": "99057117"
      },
      "outputs": [],
      "source": [
        "mal = Chinstrap[Chinstrap.sex == 'Male']['body_mass_g'].to_numpy()/1000\n",
        "mal"
      ]
    },
    {
      "cell_type": "code",
      "execution_count": null,
      "id": "0f6b1f57",
      "metadata": {
        "id": "0f6b1f57"
      },
      "outputs": [],
      "source": [
        "fbar = f.mean()\n",
        "fbar"
      ]
    },
    {
      "cell_type": "code",
      "execution_count": null,
      "id": "8142f269",
      "metadata": {
        "id": "8142f269"
      },
      "outputs": [],
      "source": [
        "mbar = m.mean()\n",
        "mbar"
      ]
    }
  ],
  "metadata": {
    "kernelspec": {
      "display_name": "Python 3 (ipykernel)",
      "language": "python",
      "name": "python3"
    },
    "language_info": {
      "codemirror_mode": {
        "name": "ipython",
        "version": 3
      },
      "file_extension": ".py",
      "mimetype": "text/x-python",
      "name": "python",
      "nbconvert_exporter": "python",
      "pygments_lexer": "ipython3",
      "version": "3.11.7"
    },
    "colab": {
      "provenance": [],
      "include_colab_link": true
    }
  },
  "nbformat": 4,
  "nbformat_minor": 5
}